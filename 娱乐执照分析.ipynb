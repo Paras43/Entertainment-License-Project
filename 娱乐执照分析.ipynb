{
 "cells": [
  {
   "cell_type": "markdown",
   "metadata": {},
   "source": [
    "# Data Extraction\n",
    "- The legacy dataset contains entertainment licenses issued by the Office of Consumer Affairs and Licensing from November 2014 through Februrary 2015, which are designed to ensure public events such as live music, dancing by patrons, performers, arcades, or jukeboxes do not violate any laws and cause disruptions. It reveals licenses'number, date and time, status, category and primary applicant, doing business location, doing business name, fees, neighborhood, total capacity, capacity, units'number for use, units' type, which are used for analysis and answer for questions: Does government have any preference or trend of issuing entertainment licenses? Is there any suggestion for visitors? What is the strategy for ambitious companies to save cost?\n"
   ]
  },
  {
   "cell_type": "code",
   "execution_count": 27,
   "metadata": {},
   "outputs": [],
   "source": [
    "# Prepare the packages.\n",
    "import pandas as pd\n",
    "import numpy as np\n",
    "import matplotlib.pyplot as plt\n",
    "import seaborn as sns\n",
    "import sklearn\n",
    "import statsmodels.formula.api as smf\n",
    "import os"
   ]
  },
  {
   "cell_type": "code",
   "execution_count": 28,
   "metadata": {},
   "outputs": [
    {
     "data": {
      "text/plain": [
       "'/Users/apple/Desktop'"
      ]
     },
     "execution_count": 28,
     "metadata": {},
     "output_type": "execute_result"
    }
   ],
   "source": [
    "os.getcwd()\n",
    "os.chdir('/Users/apple/Desktop')\n",
    "os.getcwd()"
   ]
  },
  {
   "cell_type": "code",
   "execution_count": 29,
   "metadata": {},
   "outputs": [
    {
     "data": {
      "text/html": [
       "<div>\n",
       "<style scoped>\n",
       "    .dataframe tbody tr th:only-of-type {\n",
       "        vertical-align: middle;\n",
       "    }\n",
       "\n",
       "    .dataframe tbody tr th {\n",
       "        vertical-align: top;\n",
       "    }\n",
       "\n",
       "    .dataframe thead th {\n",
       "        text-align: right;\n",
       "    }\n",
       "</style>\n",
       "<table border=\"1\" class=\"dataframe\">\n",
       "  <thead>\n",
       "    <tr style=\"text-align: right;\">\n",
       "      <th></th>\n",
       "      <th>LICENSENO</th>\n",
       "      <th>LICENSEDTTM</th>\n",
       "      <th>ISSDTTM</th>\n",
       "      <th>EXPDTTM</th>\n",
       "      <th>LICSTATUS</th>\n",
       "      <th>LICCATDESC</th>\n",
       "      <th>PRIMAPPLICANT</th>\n",
       "      <th>CONTACT</th>\n",
       "      <th>DBANAME</th>\n",
       "      <th>BUSINESSNAME</th>\n",
       "      <th>...</th>\n",
       "      <th>CAL_UNITTYPECODE</th>\n",
       "      <th>UnitTypeDescript</th>\n",
       "      <th>TotalEntCapacity</th>\n",
       "      <th>STNO</th>\n",
       "      <th>STNOHI</th>\n",
       "      <th>Address</th>\n",
       "      <th>CITY</th>\n",
       "      <th>STATE</th>\n",
       "      <th>ZIP</th>\n",
       "      <th>Location</th>\n",
       "    </tr>\n",
       "  </thead>\n",
       "  <tbody>\n",
       "    <tr>\n",
       "      <th>0</th>\n",
       "      <td>CAL-132180</td>\n",
       "      <td>1/1/2014 0:00</td>\n",
       "      <td>9/12/2014 17:24</td>\n",
       "      <td>12/31/2015 0:00</td>\n",
       "      <td>Active</td>\n",
       "      <td>Non-Live Entertainment</td>\n",
       "      <td>Stephen Pole</td>\n",
       "      <td>NaN</td>\n",
       "      <td>Club Hotel by Double Tree</td>\n",
       "      <td>Bayside Club Hotel, LLC</td>\n",
       "      <td>...</td>\n",
       "      <td>WidescrnTV</td>\n",
       "      <td>Widescreen Television</td>\n",
       "      <td>70</td>\n",
       "      <td>240</td>\n",
       "      <td>NaN</td>\n",
       "      <td>Mount Vernon ST</td>\n",
       "      <td>Dorchester</td>\n",
       "      <td>MA</td>\n",
       "      <td>2125</td>\n",
       "      <td>(42.319024000, -71.045007000)</td>\n",
       "    </tr>\n",
       "    <tr>\n",
       "      <th>1</th>\n",
       "      <td>CAL-132180</td>\n",
       "      <td>1/1/2014 0:00</td>\n",
       "      <td>9/12/2014 17:24</td>\n",
       "      <td>12/31/2015 0:00</td>\n",
       "      <td>Active</td>\n",
       "      <td>Non-Live Entertainment</td>\n",
       "      <td>Stephen Pole</td>\n",
       "      <td>NaN</td>\n",
       "      <td>Club Hotel by Double Tree</td>\n",
       "      <td>Bayside Club Hotel, LLC</td>\n",
       "      <td>...</td>\n",
       "      <td>Radio</td>\n",
       "      <td>Radio</td>\n",
       "      <td>70</td>\n",
       "      <td>240</td>\n",
       "      <td>NaN</td>\n",
       "      <td>Mount Vernon ST</td>\n",
       "      <td>Dorchester</td>\n",
       "      <td>MA</td>\n",
       "      <td>2125</td>\n",
       "      <td>(42.319024000, -71.045007000)</td>\n",
       "    </tr>\n",
       "    <tr>\n",
       "      <th>2</th>\n",
       "      <td>CAL-132180</td>\n",
       "      <td>1/1/2014 0:00</td>\n",
       "      <td>9/12/2014 17:24</td>\n",
       "      <td>12/31/2015 0:00</td>\n",
       "      <td>Active</td>\n",
       "      <td>Non-Live Entertainment</td>\n",
       "      <td>Stephen Pole</td>\n",
       "      <td>NaN</td>\n",
       "      <td>Club Hotel by Double Tree</td>\n",
       "      <td>Bayside Club Hotel, LLC</td>\n",
       "      <td>...</td>\n",
       "      <td>CassetteCD</td>\n",
       "      <td>Cassette/CD Player</td>\n",
       "      <td>70</td>\n",
       "      <td>240</td>\n",
       "      <td>NaN</td>\n",
       "      <td>Mount Vernon ST</td>\n",
       "      <td>Dorchester</td>\n",
       "      <td>MA</td>\n",
       "      <td>2125</td>\n",
       "      <td>(42.319024000, -71.045007000)</td>\n",
       "    </tr>\n",
       "    <tr>\n",
       "      <th>3</th>\n",
       "      <td>CAL-132180</td>\n",
       "      <td>1/1/2014 0:00</td>\n",
       "      <td>9/12/2014 17:24</td>\n",
       "      <td>12/31/2015 0:00</td>\n",
       "      <td>Active</td>\n",
       "      <td>Non-Live Entertainment</td>\n",
       "      <td>Stephen Pole</td>\n",
       "      <td>NaN</td>\n",
       "      <td>Club Hotel by Double Tree</td>\n",
       "      <td>Bayside Club Hotel, LLC</td>\n",
       "      <td>...</td>\n",
       "      <td>TV</td>\n",
       "      <td>Television (under 27\")</td>\n",
       "      <td>70</td>\n",
       "      <td>240</td>\n",
       "      <td>NaN</td>\n",
       "      <td>Mount Vernon ST</td>\n",
       "      <td>Dorchester</td>\n",
       "      <td>MA</td>\n",
       "      <td>2125</td>\n",
       "      <td>(42.319024000, -71.045007000)</td>\n",
       "    </tr>\n",
       "    <tr>\n",
       "      <th>4</th>\n",
       "      <td>CAL-132180</td>\n",
       "      <td>1/1/2014 0:00</td>\n",
       "      <td>9/12/2014 17:24</td>\n",
       "      <td>12/31/2015 0:00</td>\n",
       "      <td>Active</td>\n",
       "      <td>Non-Live Entertainment</td>\n",
       "      <td>Stephen Pole</td>\n",
       "      <td>NaN</td>\n",
       "      <td>Club Hotel by Double Tree</td>\n",
       "      <td>Bayside Club Hotel, LLC</td>\n",
       "      <td>...</td>\n",
       "      <td>DVDVCR</td>\n",
       "      <td>DVD/VCR</td>\n",
       "      <td>70</td>\n",
       "      <td>240</td>\n",
       "      <td>NaN</td>\n",
       "      <td>Mount Vernon ST</td>\n",
       "      <td>Dorchester</td>\n",
       "      <td>MA</td>\n",
       "      <td>2125</td>\n",
       "      <td>(42.319024000, -71.045007000)</td>\n",
       "    </tr>\n",
       "  </tbody>\n",
       "</table>\n",
       "<p>5 rows × 28 columns</p>\n",
       "</div>"
      ],
      "text/plain": [
       "    LICENSENO    LICENSEDTTM          ISSDTTM          EXPDTTM LICSTATUS  \\\n",
       "0  CAL-132180  1/1/2014 0:00  9/12/2014 17:24  12/31/2015 0:00    Active   \n",
       "1  CAL-132180  1/1/2014 0:00  9/12/2014 17:24  12/31/2015 0:00    Active   \n",
       "2  CAL-132180  1/1/2014 0:00  9/12/2014 17:24  12/31/2015 0:00    Active   \n",
       "3  CAL-132180  1/1/2014 0:00  9/12/2014 17:24  12/31/2015 0:00    Active   \n",
       "4  CAL-132180  1/1/2014 0:00  9/12/2014 17:24  12/31/2015 0:00    Active   \n",
       "\n",
       "               LICCATDESC PRIMAPPLICANT CONTACT                    DBANAME  \\\n",
       "0  Non-Live Entertainment  Stephen Pole     NaN  Club Hotel by Double Tree   \n",
       "1  Non-Live Entertainment  Stephen Pole     NaN  Club Hotel by Double Tree   \n",
       "2  Non-Live Entertainment  Stephen Pole     NaN  Club Hotel by Double Tree   \n",
       "3  Non-Live Entertainment  Stephen Pole     NaN  Club Hotel by Double Tree   \n",
       "4  Non-Live Entertainment  Stephen Pole     NaN  Club Hotel by Double Tree   \n",
       "\n",
       "              BUSINESSNAME  ... CAL_UNITTYPECODE        UnitTypeDescript  \\\n",
       "0  Bayside Club Hotel, LLC  ...       WidescrnTV   Widescreen Television   \n",
       "1  Bayside Club Hotel, LLC  ...            Radio                   Radio   \n",
       "2  Bayside Club Hotel, LLC  ...       CassetteCD      Cassette/CD Player   \n",
       "3  Bayside Club Hotel, LLC  ...               TV  Television (under 27\")   \n",
       "4  Bayside Club Hotel, LLC  ...           DVDVCR                 DVD/VCR   \n",
       "\n",
       "   TotalEntCapacity  STNO STNOHI            Address        CITY STATE   ZIP  \\\n",
       "0                70   240    NaN    Mount Vernon ST  Dorchester    MA  2125   \n",
       "1                70   240    NaN    Mount Vernon ST  Dorchester    MA  2125   \n",
       "2                70   240    NaN    Mount Vernon ST  Dorchester    MA  2125   \n",
       "3                70   240    NaN    Mount Vernon ST  Dorchester    MA  2125   \n",
       "4                70   240    NaN    Mount Vernon ST  Dorchester    MA  2125   \n",
       "\n",
       "                        Location  \n",
       "0  (42.319024000, -71.045007000)  \n",
       "1  (42.319024000, -71.045007000)  \n",
       "2  (42.319024000, -71.045007000)  \n",
       "3  (42.319024000, -71.045007000)  \n",
       "4  (42.319024000, -71.045007000)  \n",
       "\n",
       "[5 rows x 28 columns]"
      ]
     },
     "execution_count": 29,
     "metadata": {},
     "output_type": "execute_result"
    }
   ],
   "source": [
    "# Import the dataset.\n",
    "Data_url = 'https://data.boston.gov/dataset/0d93d762-da11-4cea-9bf0-77aaa5d25c36/resource/7920c501-b410-4a9c-85ab-51338c9b34af/download/entertainment-licenses.csv'\n",
    "DF = pd.read_csv(Data_url)\n",
    "DF.head()"
   ]
  },
  {
   "cell_type": "markdown",
   "metadata": {},
   "source": [
    "# Data Cleanup\n",
    "- At the beginning of exploration, I cleaned up the dataset based on the need of story telling and removed some unnecessary or ambiguous columns like ISSDTTM, EXPDTTM, CONTACT, Manager, ENDTIME, CAL_POLICEDISTRICTCODE, UnitTypeDescript, TotalEntCapacity, and the address information associated with issued licenses. Next, I checked out if there exists any missing, zero value or columns that should be replaced or transformed and generated a new column named 'CAPACITYRESULT' to indicate the successful rate of licenses application. "
   ]
  },
  {
   "cell_type": "code",
   "execution_count": 30,
   "metadata": {},
   "outputs": [
    {
     "data": {
      "text/html": [
       "<div>\n",
       "<style scoped>\n",
       "    .dataframe tbody tr th:only-of-type {\n",
       "        vertical-align: middle;\n",
       "    }\n",
       "\n",
       "    .dataframe tbody tr th {\n",
       "        vertical-align: top;\n",
       "    }\n",
       "\n",
       "    .dataframe thead th {\n",
       "        text-align: right;\n",
       "    }\n",
       "</style>\n",
       "<table border=\"1\" class=\"dataframe\">\n",
       "  <thead>\n",
       "    <tr style=\"text-align: right;\">\n",
       "      <th></th>\n",
       "      <th>LICENSENO</th>\n",
       "      <th>LICENSEDTTM</th>\n",
       "      <th>LICCATDESC</th>\n",
       "      <th>PRIMAPPLICANT</th>\n",
       "      <th>DBANAME</th>\n",
       "      <th>BUSINESSNAME</th>\n",
       "      <th>TOTALCAPACITY</th>\n",
       "      <th>CAPACITY</th>\n",
       "      <th>FEEAMOUNT</th>\n",
       "      <th>NUMBEROFUNITS</th>\n",
       "      <th>CAL_UNITTYPECODE</th>\n",
       "      <th>Neighborhood</th>\n",
       "    </tr>\n",
       "  </thead>\n",
       "  <tbody>\n",
       "    <tr>\n",
       "      <th>0</th>\n",
       "      <td>CAL-132180</td>\n",
       "      <td>1/1/2014 0:00</td>\n",
       "      <td>Non-Live Entertainment</td>\n",
       "      <td>Stephen Pole</td>\n",
       "      <td>Club Hotel by Double Tree</td>\n",
       "      <td>Bayside Club Hotel, LLC</td>\n",
       "      <td>70</td>\n",
       "      <td>70</td>\n",
       "      <td>180.0</td>\n",
       "      <td>1</td>\n",
       "      <td>WidescrnTV</td>\n",
       "      <td>South Boston</td>\n",
       "    </tr>\n",
       "    <tr>\n",
       "      <th>1</th>\n",
       "      <td>CAL-132180</td>\n",
       "      <td>1/1/2014 0:00</td>\n",
       "      <td>Non-Live Entertainment</td>\n",
       "      <td>Stephen Pole</td>\n",
       "      <td>Club Hotel by Double Tree</td>\n",
       "      <td>Bayside Club Hotel, LLC</td>\n",
       "      <td>70</td>\n",
       "      <td>0</td>\n",
       "      <td>0.0</td>\n",
       "      <td>1</td>\n",
       "      <td>Radio</td>\n",
       "      <td>South Boston</td>\n",
       "    </tr>\n",
       "    <tr>\n",
       "      <th>2</th>\n",
       "      <td>CAL-132180</td>\n",
       "      <td>1/1/2014 0:00</td>\n",
       "      <td>Non-Live Entertainment</td>\n",
       "      <td>Stephen Pole</td>\n",
       "      <td>Club Hotel by Double Tree</td>\n",
       "      <td>Bayside Club Hotel, LLC</td>\n",
       "      <td>70</td>\n",
       "      <td>0</td>\n",
       "      <td>0.0</td>\n",
       "      <td>1</td>\n",
       "      <td>CassetteCD</td>\n",
       "      <td>South Boston</td>\n",
       "    </tr>\n",
       "    <tr>\n",
       "      <th>3</th>\n",
       "      <td>CAL-132180</td>\n",
       "      <td>1/1/2014 0:00</td>\n",
       "      <td>Non-Live Entertainment</td>\n",
       "      <td>Stephen Pole</td>\n",
       "      <td>Club Hotel by Double Tree</td>\n",
       "      <td>Bayside Club Hotel, LLC</td>\n",
       "      <td>70</td>\n",
       "      <td>0</td>\n",
       "      <td>0.0</td>\n",
       "      <td>2</td>\n",
       "      <td>TV</td>\n",
       "      <td>South Boston</td>\n",
       "    </tr>\n",
       "    <tr>\n",
       "      <th>4</th>\n",
       "      <td>CAL-132180</td>\n",
       "      <td>1/1/2014 0:00</td>\n",
       "      <td>Non-Live Entertainment</td>\n",
       "      <td>Stephen Pole</td>\n",
       "      <td>Club Hotel by Double Tree</td>\n",
       "      <td>Bayside Club Hotel, LLC</td>\n",
       "      <td>70</td>\n",
       "      <td>0</td>\n",
       "      <td>180.0</td>\n",
       "      <td>1</td>\n",
       "      <td>DVDVCR</td>\n",
       "      <td>South Boston</td>\n",
       "    </tr>\n",
       "    <tr>\n",
       "      <th>5</th>\n",
       "      <td>CAL-132181</td>\n",
       "      <td>1/1/2014 0:00</td>\n",
       "      <td>Non-Live Entertainment</td>\n",
       "      <td>amrik  pabla</td>\n",
       "      <td>Bukhara</td>\n",
       "      <td>Manraj, Inc</td>\n",
       "      <td>60</td>\n",
       "      <td>60</td>\n",
       "      <td>0.0</td>\n",
       "      <td>1</td>\n",
       "      <td>CassetteCD</td>\n",
       "      <td>Jamaica Plain</td>\n",
       "    </tr>\n",
       "    <tr>\n",
       "      <th>6</th>\n",
       "      <td>CAL-132181</td>\n",
       "      <td>1/1/2014 0:00</td>\n",
       "      <td>Non-Live Entertainment</td>\n",
       "      <td>amrik  pabla</td>\n",
       "      <td>Bukhara</td>\n",
       "      <td>Manraj, Inc</td>\n",
       "      <td>60</td>\n",
       "      <td>0</td>\n",
       "      <td>0.0</td>\n",
       "      <td>1</td>\n",
       "      <td>WidescrnTV</td>\n",
       "      <td>Jamaica Plain</td>\n",
       "    </tr>\n",
       "    <tr>\n",
       "      <th>7</th>\n",
       "      <td>CAL-132182</td>\n",
       "      <td>1/1/2014 0:00</td>\n",
       "      <td>Non-Live Entertainment</td>\n",
       "      <td>Shane Sykes</td>\n",
       "      <td>Starbucks Coffee #22566</td>\n",
       "      <td>Starbucks Corporation</td>\n",
       "      <td>40</td>\n",
       "      <td>40</td>\n",
       "      <td>0.0</td>\n",
       "      <td>1</td>\n",
       "      <td>Radio</td>\n",
       "      <td>South Boston</td>\n",
       "    </tr>\n",
       "    <tr>\n",
       "      <th>8</th>\n",
       "      <td>CAL-132183</td>\n",
       "      <td>1/1/2014 0:00</td>\n",
       "      <td>Non-Live Entertainment</td>\n",
       "      <td>REMON KARIAN</td>\n",
       "      <td>Fiorella's Express</td>\n",
       "      <td>Fiorella's Express, LLC</td>\n",
       "      <td>16</td>\n",
       "      <td>16</td>\n",
       "      <td>0.0</td>\n",
       "      <td>1</td>\n",
       "      <td>CassetteCD</td>\n",
       "      <td>Allston/Brighton</td>\n",
       "    </tr>\n",
       "    <tr>\n",
       "      <th>9</th>\n",
       "      <td>CAL-132183</td>\n",
       "      <td>1/1/2014 0:00</td>\n",
       "      <td>Non-Live Entertainment</td>\n",
       "      <td>REMON KARIAN</td>\n",
       "      <td>Fiorella's Express</td>\n",
       "      <td>Fiorella's Express, LLC</td>\n",
       "      <td>16</td>\n",
       "      <td>0</td>\n",
       "      <td>0.0</td>\n",
       "      <td>1</td>\n",
       "      <td>WidescrnTV</td>\n",
       "      <td>Allston/Brighton</td>\n",
       "    </tr>\n",
       "  </tbody>\n",
       "</table>\n",
       "</div>"
      ],
      "text/plain": [
       "    LICENSENO    LICENSEDTTM              LICCATDESC PRIMAPPLICANT  \\\n",
       "0  CAL-132180  1/1/2014 0:00  Non-Live Entertainment  Stephen Pole   \n",
       "1  CAL-132180  1/1/2014 0:00  Non-Live Entertainment  Stephen Pole   \n",
       "2  CAL-132180  1/1/2014 0:00  Non-Live Entertainment  Stephen Pole   \n",
       "3  CAL-132180  1/1/2014 0:00  Non-Live Entertainment  Stephen Pole   \n",
       "4  CAL-132180  1/1/2014 0:00  Non-Live Entertainment  Stephen Pole   \n",
       "5  CAL-132181  1/1/2014 0:00  Non-Live Entertainment  amrik  pabla   \n",
       "6  CAL-132181  1/1/2014 0:00  Non-Live Entertainment  amrik  pabla   \n",
       "7  CAL-132182  1/1/2014 0:00  Non-Live Entertainment   Shane Sykes   \n",
       "8  CAL-132183  1/1/2014 0:00  Non-Live Entertainment  REMON KARIAN   \n",
       "9  CAL-132183  1/1/2014 0:00  Non-Live Entertainment  REMON KARIAN   \n",
       "\n",
       "                     DBANAME             BUSINESSNAME  TOTALCAPACITY  \\\n",
       "0  Club Hotel by Double Tree  Bayside Club Hotel, LLC             70   \n",
       "1  Club Hotel by Double Tree  Bayside Club Hotel, LLC             70   \n",
       "2  Club Hotel by Double Tree  Bayside Club Hotel, LLC             70   \n",
       "3  Club Hotel by Double Tree  Bayside Club Hotel, LLC             70   \n",
       "4  Club Hotel by Double Tree  Bayside Club Hotel, LLC             70   \n",
       "5                    Bukhara              Manraj, Inc             60   \n",
       "6                    Bukhara              Manraj, Inc             60   \n",
       "7    Starbucks Coffee #22566    Starbucks Corporation             40   \n",
       "8         Fiorella's Express  Fiorella's Express, LLC             16   \n",
       "9         Fiorella's Express  Fiorella's Express, LLC             16   \n",
       "\n",
       "   CAPACITY  FEEAMOUNT  NUMBEROFUNITS CAL_UNITTYPECODE      Neighborhood  \n",
       "0        70      180.0              1       WidescrnTV      South Boston  \n",
       "1         0        0.0              1            Radio      South Boston  \n",
       "2         0        0.0              1       CassetteCD      South Boston  \n",
       "3         0        0.0              2               TV      South Boston  \n",
       "4         0      180.0              1           DVDVCR      South Boston  \n",
       "5        60        0.0              1       CassetteCD     Jamaica Plain  \n",
       "6         0        0.0              1       WidescrnTV     Jamaica Plain  \n",
       "7        40        0.0              1            Radio      South Boston  \n",
       "8        16        0.0              1       CassetteCD  Allston/Brighton  \n",
       "9         0        0.0              1       WidescrnTV  Allston/Brighton  "
      ]
     },
     "execution_count": 30,
     "metadata": {},
     "output_type": "execute_result"
    }
   ],
   "source": [
    "# Drop the unnecessary columns.\n",
    "MyDF = DF[['LICENSENO','LICENSEDTTM','LICCATDESC','PRIMAPPLICANT','DBANAME','BUSINESSNAME','TOTALCAPACITY','CAPACITY','FEEAMOUNT','NUMBEROFUNITS','CAL_UNITTYPECODE','Neighborhood']]\n",
    "MyDF.head(10)"
   ]
  },
  {
   "cell_type": "code",
   "execution_count": 31,
   "metadata": {},
   "outputs": [
    {
     "name": "stdout",
     "output_type": "stream",
     "text": [
      "LICENSENO           0\n",
      "LICENSEDTTM         8\n",
      "LICCATDESC          0\n",
      "PRIMAPPLICANT       0\n",
      "DBANAME             0\n",
      "BUSINESSNAME        2\n",
      "TOTALCAPACITY       0\n",
      "CAPACITY            0\n",
      "FEEAMOUNT           1\n",
      "NUMBEROFUNITS       0\n",
      "CAL_UNITTYPECODE    1\n",
      "Neighborhood        0\n",
      "dtype: int64\n"
     ]
    }
   ],
   "source": [
    "# Check out if there is any missing value.\n",
    "from Pu_Liu_Module import function_check\n",
    "print(function_check(MyDF))"
   ]
  },
  {
   "cell_type": "code",
   "execution_count": 24,
   "metadata": {},
   "outputs": [
    {
     "name": "stdout",
     "output_type": "stream",
     "text": [
      "LICENSENO           0\n",
      "LICENSEDTTM         0\n",
      "LICCATDESC          0\n",
      "PRIMAPPLICANT       0\n",
      "DBANAME             0\n",
      "BUSINESSNAME        0\n",
      "TOTALCAPACITY       0\n",
      "CAPACITY            0\n",
      "FEEAMOUNT           0\n",
      "NUMBEROFUNITS       0\n",
      "CAL_UNITTYPECODE    0\n",
      "Neighborhood        0\n",
      "dtype: int64\n"
     ]
    }
   ],
   "source": [
    "# Remove the missing values.\n",
    "MyDF_clean = MyDF.dropna()\n",
    "from Pu_Liu_Module import function_check\n",
    "print(function_check(MyDF_clean))"
   ]
  },
  {
   "cell_type": "code",
   "execution_count": 25,
   "metadata": {},
   "outputs": [],
   "source": [
    "# Create a new variable named 'CAPACITYRESULT' and drop the unnecessary values. \n",
    "MyDF_clean = MyDF_clean.assign(CAPACITYRESULT = MyDF_clean['CAPACITY']/ MyDF_clean['TOTALCAPACITY'])\n"
   ]
  },
  {
   "cell_type": "code",
   "execution_count": 26,
   "metadata": {},
   "outputs": [],
   "source": [
    "MyDF_clean = MyDF_clean.drop(['TOTALCAPACITY', 'CAPACITY'], axis = 1)"
   ]
  },
  {
   "cell_type": "code",
   "execution_count": 27,
   "metadata": {},
   "outputs": [],
   "source": [
    "MyDF_clean = MyDF_clean[['LICENSENO','LICENSEDTTM','LICCATDESC','PRIMAPPLICANT','DBANAME','BUSINESSNAME','CAPACITYRESULT','FEEAMOUNT','NUMBEROFUNITS','CAL_UNITTYPECODE','Neighborhood']]\n",
    "DD = MyDF_clean[(MyDF_clean['CAPACITYRESULT'] > 0) & (MyDF_clean['CAPACITYRESULT'] < 1) ].index\n",
    "MyDF_clean.drop(DD , inplace=True)\n",
    "MyDF_clean_L = MyDF_clean\n",
    "MyDF_clean_L\n",
    "MyDF_clean_L.to_csv(\"MyDF_clean_L.csv\")"
   ]
  },
  {
   "cell_type": "markdown",
   "metadata": {},
   "source": [
    "# Data Visualization \n",
    "- Secondly, it is time to discover important trends or preferences with explanatory data analysis.I plot the bar chart of various licenses which indicates that Non-Live Entertainment has more quotas available than others, and the passing rate of it is still sticking on the top while the average application fee is the lowest, meaning that the Office of Consumer Affairs and Licensing prefers to issue the Non-Live Entertainment rather than to issue others. The reason behind this phenomenon is probably related to the consideration of social security,cost of police departments and noise pollution,leading to the government needs to charge a high fee on the licenses of night club, live entertainment to guarantee the activities. \n"
   ]
  },
  {
   "cell_type": "code",
   "execution_count": 330,
   "metadata": {},
   "outputs": [
    {
     "data": {
      "text/plain": [
       "Non-Live Entertainment    2489\n",
       "Night Club                1536\n",
       "Live Entertainment        1157\n",
       "Name: LICCATDESC, dtype: int64"
      ]
     },
     "execution_count": 330,
     "metadata": {},
     "output_type": "execute_result"
    }
   ],
   "source": [
    "# Divide licenses into three categories.\n",
    "MyDF_clean['LICCATDESC'].value_counts()\n"
   ]
  },
  {
   "cell_type": "code",
   "execution_count": 331,
   "metadata": {},
   "outputs": [
    {
     "data": {
      "text/plain": [
       "Text(0.5, 1.0, 'The passing rate of Non-live Entertainment licenses is more than any other one')"
      ]
     },
     "execution_count": 331,
     "metadata": {},
     "output_type": "execute_result"
    },
    {
     "data": {
      "image/png": "[encoded data removed]",
      "text/plain": [
       "<Figure size 432x288 with 1 Axes>"
      ]
     },
     "metadata": {
      "needs_background": "light"
     },
     "output_type": "display_data"
    }
   ],
   "source": [
    "# Plot the passing rate of various licenses\n",
    "Licenses_possession_rate = [Nol_ent['CAPACITYRESULT'].sum()/2502,Nc['CAPACITYRESULT'].sum()/1541,L_ent['CAPACITYRESULT'].sum()/1169]\n",
    "plt.bar(Category,Licenses_possession_rate,0.7)\n",
    "plt.xlabel('Category')\n",
    "plt.ylabel('Licenses-possession-rate')\n",
    "plt.title('The passing rate of Non-live Entertainment licenses is more than any other one')"
   ]
  },
  {
   "cell_type": "code",
   "execution_count": 332,
   "metadata": {},
   "outputs": [
    {
     "data": {
      "text/plain": [
       "Non-Live Entertainment    902\n",
       "Live Entertainment        186\n",
       "Night Club                181\n",
       "Name: LICCATDESC, dtype: int64"
      ]
     },
     "execution_count": 332,
     "metadata": {},
     "output_type": "execute_result"
    }
   ],
   "source": [
    "# Select the successful processed licenses.\n",
    "MyDF_clean = MyDF_clean[MyDF_clean['CAPACITYRESULT'] == 1]\n",
    "MyDF_clean['LICCATDESC'].value_counts()"
   ]
  },
  {
   "cell_type": "code",
   "execution_count": 333,
   "metadata": {},
   "outputs": [
    {
     "data": {
      "text/plain": [
       "Text(0.5, 1.0, 'Non-Live Entertainment possesses the most licenses')"
      ]
     },
     "execution_count": 333,
     "metadata": {},
     "output_type": "execute_result"
    },
    {
     "data": {
      "image/png": "[encoded data removed]",
      "text/plain": [
       "<Figure size 432x288 with 1 Axes>"
      ]
     },
     "metadata": {
      "needs_background": "light"
     },
     "output_type": "display_data"
    }
   ],
   "source": [
    "# Plot Licenses'possession of Non-Live Entertainment, Night Club, and Live Entertainment.\n",
    "Nol_ent = MyDF_clean[MyDF_clean['LICCATDESC'] == 'Non-Live Entertainment']\n",
    "Nol_ent['CAPACITYRESULT'].sum()\n",
    "Nc = MyDF_clean[MyDF_clean['LICCATDESC'] == 'Night Club']\n",
    "Nc['CAPACITYRESULT'].sum()\n",
    "L_ent = MyDF_clean[MyDF_clean['LICCATDESC'] == 'Live Entertainment']\n",
    "L_ent['CAPACITYRESULT'].sum()\n",
    "Category = ['Non-Live Entertainment','Night Club ','Live Entertainment']\n",
    "Licenses_possession = [Nol_ent['CAPACITYRESULT'].sum(),Nc['CAPACITYRESULT'].sum(),L_ent['CAPACITYRESULT'].sum()]\n",
    "plt.bar(Category,Licenses_possession,0.7)\n",
    "plt.xlabel('Category')\n",
    "plt.ylabel('Licenses-possession')\n",
    "plt.title('Non-Live Entertainment possesses the most licenses')"
   ]
  },
  {
   "cell_type": "code",
   "execution_count": 334,
   "metadata": {},
   "outputs": [
    {
     "data": {
      "text/plain": [
       "Text(0.5, 1.0, 'The cost of application on Non-Live Entertainment is the lowest')"
      ]
     },
     "execution_count": 334,
     "metadata": {},
     "output_type": "execute_result"
    },
    {
     "data": {
      "image/png": "[encoded data removed]",
      "text/plain": [
       "<Figure size 432x288 with 1 Axes>"
      ]
     },
     "metadata": {
      "needs_background": "light"
     },
     "output_type": "display_data"
    }
   ],
   "source": [
    "# Plot the Average application fee of licenses.\n",
    "Avgfee_Nol_ent = (Nol_ent['FEEAMOUNT'].sum())/902\n",
    "Avgfee_Nc = (Nc['FEEAMOUNT'].sum())/186\n",
    "Avgfee_L_ent = (L_ent['FEEAMOUNT'].sum())/181\n",
    "Licenses_Avg_fee = [Avgfee_Nol_ent,Avgfee_Nc,Avgfee_L_ent]\n",
    "plt.bar(Category,Licenses_Avg_fee,0.7)\n",
    "plt.xlabel('Category')\n",
    "plt.ylabel('Licenses-Average-Fee')\n",
    "plt.title('The cost of application on Non-Live Entertainment is the lowest')"
   ]
  },
  {
   "cell_type": "markdown",
   "metadata": {},
   "source": [
    "# Descriptive Analysis\n",
    "- Thirdly, I move on to perform exploratory data analysis with statistical techniques.I summarize the dataset and it is not hard to find that most of the licenses issued to Downtown/Charlestown/North End and most of them are CassetteCD. Next, I classify the licenses based on Neighborhood and summarize the main activity separately, indicating different attributes on areas. Downtown/Charlestown/North End, Back Bay/South End, Allston/Brighton are the best places for visitors who prefer silent, Non-Live entertainment and listen to music. Visitors who want more violent, Night Club entertainment at night and enroll into DancingPat, crazy Radio can go to the Downtown/Charlestown/North End, Back Bay/South End, and South Boston. For those who want to participate in Live entertainment and enjoy amazing vocal,songs, Downtown/Charlestown/North End, Back Bay/South End, South Boston are the best choices."
   ]
  },
  {
   "cell_type": "code",
   "execution_count": 395,
   "metadata": {},
   "outputs": [
    {
     "data": {
      "text/html": [
       "<div>\n",
       "<style scoped>\n",
       "    .dataframe tbody tr th:only-of-type {\n",
       "        vertical-align: middle;\n",
       "    }\n",
       "\n",
       "    .dataframe tbody tr th {\n",
       "        vertical-align: top;\n",
       "    }\n",
       "\n",
       "    .dataframe thead th {\n",
       "        text-align: right;\n",
       "    }\n",
       "</style>\n",
       "<table border=\"1\" class=\"dataframe\">\n",
       "  <thead>\n",
       "    <tr style=\"text-align: right;\">\n",
       "      <th></th>\n",
       "      <th>LICENSENO</th>\n",
       "      <th>LICENSEDTTM</th>\n",
       "      <th>LICCATDESC</th>\n",
       "      <th>PRIMAPPLICANT</th>\n",
       "      <th>DBANAME</th>\n",
       "      <th>BUSINESSNAME</th>\n",
       "      <th>CAPACITYRESULT</th>\n",
       "      <th>FEEAMOUNT</th>\n",
       "      <th>NUMBEROFUNITS</th>\n",
       "      <th>CAL_UNITTYPECODE</th>\n",
       "      <th>Neighborhood</th>\n",
       "    </tr>\n",
       "  </thead>\n",
       "  <tbody>\n",
       "    <tr>\n",
       "      <th>count</th>\n",
       "      <td>1269</td>\n",
       "      <td>1269</td>\n",
       "      <td>1269</td>\n",
       "      <td>1269</td>\n",
       "      <td>1269</td>\n",
       "      <td>1269</td>\n",
       "      <td>1269.0</td>\n",
       "      <td>1269.000000</td>\n",
       "      <td>1269.000000</td>\n",
       "      <td>1269</td>\n",
       "      <td>1269</td>\n",
       "    </tr>\n",
       "    <tr>\n",
       "      <th>unique</th>\n",
       "      <td>1269</td>\n",
       "      <td>91</td>\n",
       "      <td>3</td>\n",
       "      <td>1101</td>\n",
       "      <td>1185</td>\n",
       "      <td>1157</td>\n",
       "      <td>NaN</td>\n",
       "      <td>NaN</td>\n",
       "      <td>NaN</td>\n",
       "      <td>18</td>\n",
       "      <td>11</td>\n",
       "    </tr>\n",
       "    <tr>\n",
       "      <th>top</th>\n",
       "      <td>CAL-132232</td>\n",
       "      <td>1/1/2014 0:00</td>\n",
       "      <td>Non-Live Entertainment</td>\n",
       "      <td>Mary Her</td>\n",
       "      <td>Boloco</td>\n",
       "      <td>Starbucks Corporation</td>\n",
       "      <td>NaN</td>\n",
       "      <td>NaN</td>\n",
       "      <td>NaN</td>\n",
       "      <td>CassetteCD</td>\n",
       "      <td>Downtown/Charlestown/North End</td>\n",
       "    </tr>\n",
       "    <tr>\n",
       "      <th>freq</th>\n",
       "      <td>1</td>\n",
       "      <td>1172</td>\n",
       "      <td>902</td>\n",
       "      <td>18</td>\n",
       "      <td>11</td>\n",
       "      <td>19</td>\n",
       "      <td>NaN</td>\n",
       "      <td>NaN</td>\n",
       "      <td>NaN</td>\n",
       "      <td>488</td>\n",
       "      <td>448</td>\n",
       "    </tr>\n",
       "    <tr>\n",
       "      <th>mean</th>\n",
       "      <td>NaN</td>\n",
       "      <td>NaN</td>\n",
       "      <td>NaN</td>\n",
       "      <td>NaN</td>\n",
       "      <td>NaN</td>\n",
       "      <td>NaN</td>\n",
       "      <td>1.0</td>\n",
       "      <td>304.960599</td>\n",
       "      <td>52.181245</td>\n",
       "      <td>NaN</td>\n",
       "      <td>NaN</td>\n",
       "    </tr>\n",
       "    <tr>\n",
       "      <th>std</th>\n",
       "      <td>NaN</td>\n",
       "      <td>NaN</td>\n",
       "      <td>NaN</td>\n",
       "      <td>NaN</td>\n",
       "      <td>NaN</td>\n",
       "      <td>NaN</td>\n",
       "      <td>0.0</td>\n",
       "      <td>617.369029</td>\n",
       "      <td>934.136398</td>\n",
       "      <td>NaN</td>\n",
       "      <td>NaN</td>\n",
       "    </tr>\n",
       "    <tr>\n",
       "      <th>min</th>\n",
       "      <td>NaN</td>\n",
       "      <td>NaN</td>\n",
       "      <td>NaN</td>\n",
       "      <td>NaN</td>\n",
       "      <td>NaN</td>\n",
       "      <td>NaN</td>\n",
       "      <td>1.0</td>\n",
       "      <td>0.000000</td>\n",
       "      <td>0.000000</td>\n",
       "      <td>NaN</td>\n",
       "      <td>NaN</td>\n",
       "    </tr>\n",
       "    <tr>\n",
       "      <th>25%</th>\n",
       "      <td>NaN</td>\n",
       "      <td>NaN</td>\n",
       "      <td>NaN</td>\n",
       "      <td>NaN</td>\n",
       "      <td>NaN</td>\n",
       "      <td>NaN</td>\n",
       "      <td>1.0</td>\n",
       "      <td>0.000000</td>\n",
       "      <td>1.000000</td>\n",
       "      <td>NaN</td>\n",
       "      <td>NaN</td>\n",
       "    </tr>\n",
       "    <tr>\n",
       "      <th>50%</th>\n",
       "      <td>NaN</td>\n",
       "      <td>NaN</td>\n",
       "      <td>NaN</td>\n",
       "      <td>NaN</td>\n",
       "      <td>NaN</td>\n",
       "      <td>NaN</td>\n",
       "      <td>1.0</td>\n",
       "      <td>0.000000</td>\n",
       "      <td>1.000000</td>\n",
       "      <td>NaN</td>\n",
       "      <td>NaN</td>\n",
       "    </tr>\n",
       "    <tr>\n",
       "      <th>75%</th>\n",
       "      <td>NaN</td>\n",
       "      <td>NaN</td>\n",
       "      <td>NaN</td>\n",
       "      <td>NaN</td>\n",
       "      <td>NaN</td>\n",
       "      <td>NaN</td>\n",
       "      <td>1.0</td>\n",
       "      <td>400.000000</td>\n",
       "      <td>1.000000</td>\n",
       "      <td>NaN</td>\n",
       "      <td>NaN</td>\n",
       "    </tr>\n",
       "    <tr>\n",
       "      <th>max</th>\n",
       "      <td>NaN</td>\n",
       "      <td>NaN</td>\n",
       "      <td>NaN</td>\n",
       "      <td>NaN</td>\n",
       "      <td>NaN</td>\n",
       "      <td>NaN</td>\n",
       "      <td>1.0</td>\n",
       "      <td>9500.000000</td>\n",
       "      <td>27846.000000</td>\n",
       "      <td>NaN</td>\n",
       "      <td>NaN</td>\n",
       "    </tr>\n",
       "  </tbody>\n",
       "</table>\n",
       "</div>"
      ],
      "text/plain": [
       "         LICENSENO    LICENSEDTTM              LICCATDESC PRIMAPPLICANT  \\\n",
       "count         1269           1269                    1269          1269   \n",
       "unique        1269             91                       3          1101   \n",
       "top     CAL-132232  1/1/2014 0:00  Non-Live Entertainment      Mary Her   \n",
       "freq             1           1172                     902            18   \n",
       "mean           NaN            NaN                     NaN           NaN   \n",
       "std            NaN            NaN                     NaN           NaN   \n",
       "min            NaN            NaN                     NaN           NaN   \n",
       "25%            NaN            NaN                     NaN           NaN   \n",
       "50%            NaN            NaN                     NaN           NaN   \n",
       "75%            NaN            NaN                     NaN           NaN   \n",
       "max            NaN            NaN                     NaN           NaN   \n",
       "\n",
       "       DBANAME           BUSINESSNAME  CAPACITYRESULT    FEEAMOUNT  \\\n",
       "count     1269                   1269          1269.0  1269.000000   \n",
       "unique    1185                   1157             NaN          NaN   \n",
       "top     Boloco  Starbucks Corporation             NaN          NaN   \n",
       "freq        11                     19             NaN          NaN   \n",
       "mean       NaN                    NaN             1.0   304.960599   \n",
       "std        NaN                    NaN             0.0   617.369029   \n",
       "min        NaN                    NaN             1.0     0.000000   \n",
       "25%        NaN                    NaN             1.0     0.000000   \n",
       "50%        NaN                    NaN             1.0     0.000000   \n",
       "75%        NaN                    NaN             1.0   400.000000   \n",
       "max        NaN                    NaN             1.0  9500.000000   \n",
       "\n",
       "        NUMBEROFUNITS CAL_UNITTYPECODE                    Neighborhood  \n",
       "count     1269.000000             1269                            1269  \n",
       "unique            NaN               18                              11  \n",
       "top               NaN       CassetteCD  Downtown/Charlestown/North End  \n",
       "freq              NaN              488                             448  \n",
       "mean        52.181245              NaN                             NaN  \n",
       "std        934.136398              NaN                             NaN  \n",
       "min          0.000000              NaN                             NaN  \n",
       "25%          1.000000              NaN                             NaN  \n",
       "50%          1.000000              NaN                             NaN  \n",
       "75%          1.000000              NaN                             NaN  \n",
       "max      27846.000000              NaN                             NaN  "
      ]
     },
     "execution_count": 395,
     "metadata": {},
     "output_type": "execute_result"
    }
   ],
   "source": [
    "# Summary the dataset. \n",
    "MyDF_clean.describe(include='all')"
   ]
  },
  {
   "cell_type": "code",
   "execution_count": 336,
   "metadata": {},
   "outputs": [
    {
     "data": {
      "text/plain": [
       "Downtown/Charlestown/North End    293\n",
       "Back Bay/South End                224\n",
       "Allston/Brighton                  103\n",
       "East Boston                        91\n",
       "South Boston                       64\n",
       "West Roxbury/Roslindale            33\n",
       "Jamaica Plain                      27\n",
       "Dorchester                         24\n",
       "Roxbury/Dorchester                 19\n",
       "Mattapan/Dorchester                12\n",
       "Hyde Park                          12\n",
       "Name: Neighborhood, dtype: int64"
      ]
     },
     "execution_count": 336,
     "metadata": {},
     "output_type": "execute_result"
    }
   ],
   "source": [
    "# Classify Non-Live licenses based on Neighborhood.\n",
    "Nol_ent['Neighborhood'].value_counts()"
   ]
  },
  {
   "cell_type": "code",
   "execution_count": 337,
   "metadata": {},
   "outputs": [
    {
     "data": {
      "text/plain": [
       "(count            293\n",
       " unique            10\n",
       " top       CassetteCD\n",
       " freq             148\n",
       " Name: CAL_UNITTYPECODE, dtype: object, count            224\n",
       " unique             9\n",
       " top       CassetteCD\n",
       " freq             117\n",
       " Name: CAL_UNITTYPECODE, dtype: object, count            103\n",
       " unique             7\n",
       " top       CassetteCD\n",
       " freq              37\n",
       " Name: CAL_UNITTYPECODE, dtype: object)"
      ]
     },
     "execution_count": 337,
     "metadata": {},
     "output_type": "execute_result"
    }
   ],
   "source": [
    "# Summarize the main activity related to Non-Live entertainment licenses. \n",
    "from Pu_Liu_Module import function_summary\n",
    "DCN_1 = Nol_ent.loc[Nol_ent['Neighborhood']=='Downtown/Charlestown/North End', 'CAL_UNITTYPECODE']\n",
    "DCN_2 = Nol_ent.loc[Nol_ent['Neighborhood']=='Back Bay/South End', 'CAL_UNITTYPECODE']\n",
    "DCN_3 = Nol_ent.loc[Nol_ent['Neighborhood']=='Allston/Brighton', 'CAL_UNITTYPECODE']\n",
    "function_summary(DCN_1,DCN_2,DCN_3)"
   ]
  },
  {
   "cell_type": "code",
   "execution_count": 338,
   "metadata": {},
   "outputs": [
    {
     "data": {
      "text/plain": [
       "Downtown/Charlestown/North End    86\n",
       "Back Bay/South End                30\n",
       "South Boston                      17\n",
       "Allston/Brighton                  16\n",
       "Dorchester                         8\n",
       "East Boston                        8\n",
       "Roxbury/Dorchester                 4\n",
       "Jamaica Plain                      4\n",
       "West Roxbury/Roslindale            3\n",
       "Hyde Park                          3\n",
       "Mattapan/Dorchester                2\n",
       "Name: Neighborhood, dtype: int64"
      ]
     },
     "execution_count": 338,
     "metadata": {},
     "output_type": "execute_result"
    }
   ],
   "source": [
    "# Classify Night Club licenses based on Neighborhood.\n",
    "Nc['Neighborhood'].value_counts()"
   ]
  },
  {
   "cell_type": "code",
   "execution_count": 339,
   "metadata": {},
   "outputs": [
    {
     "data": {
      "text/plain": [
       "(count        86\n",
       " unique       11\n",
       " top       Radio\n",
       " freq         20\n",
       " Name: CAL_UNITTYPECODE, dtype: object, count             30\n",
       " unique             9\n",
       " top       DancingPat\n",
       " freq              10\n",
       " Name: CAL_UNITTYPECODE, dtype: object, count             17\n",
       " unique             7\n",
       " top       DancingPat\n",
       " freq               4\n",
       " Name: CAL_UNITTYPECODE, dtype: object)"
      ]
     },
     "execution_count": 339,
     "metadata": {},
     "output_type": "execute_result"
    }
   ],
   "source": [
    "# Summarize the main activity related to Night Club licenses.\n",
    "from Pu_Liu_Module import function_summary\n",
    "Nc_1 = Nc.loc[Nc['Neighborhood']=='Downtown/Charlestown/North End', 'CAL_UNITTYPECODE']\n",
    "Nc_2 = Nc.loc[Nc['Neighborhood']=='Back Bay/South End', 'CAL_UNITTYPECODE']\n",
    "Nc_3 = Nc.loc[Nc['Neighborhood']=='South Boston', 'CAL_UNITTYPECODE']\n",
    "function_summary(Nc_1,Nc_2,Nc_3)"
   ]
  },
  {
   "cell_type": "code",
   "execution_count": 340,
   "metadata": {},
   "outputs": [
    {
     "data": {
      "text/plain": [
       "Downtown/Charlestown/North End    69\n",
       "Back Bay/South End                38\n",
       "South Boston                      21\n",
       "Allston/Brighton                  16\n",
       "Dorchester                        12\n",
       "Jamaica Plain                     10\n",
       "Roxbury/Dorchester                 6\n",
       "East Boston                        5\n",
       "West Roxbury/Roslindale            5\n",
       "Hyde Park                          3\n",
       "Mattapan/Dorchester                1\n",
       "Name: Neighborhood, dtype: int64"
      ]
     },
     "execution_count": 340,
     "metadata": {},
     "output_type": "execute_result"
    }
   ],
   "source": [
    "# Classify Live-Entertainment licenses based on Neighborhood.\n",
    "L_ent ['Neighborhood'].value_counts()"
   ]
  },
  {
   "cell_type": "code",
   "execution_count": 399,
   "metadata": {},
   "outputs": [
    {
     "data": {
      "text/plain": [
       "(count             69\n",
       " unique            11\n",
       " top       CassetteCD\n",
       " freq              24\n",
       " Name: CAL_UNITTYPECODE, dtype: object, count            38\n",
       " unique           11\n",
       " top       InstVocal\n",
       " freq             10\n",
       " Name: CAL_UNITTYPECODE, dtype: object, count             21\n",
       " unique             8\n",
       " top       CassetteCD\n",
       " freq               7\n",
       " Name: CAL_UNITTYPECODE, dtype: object)"
      ]
     },
     "execution_count": 399,
     "metadata": {},
     "output_type": "execute_result"
    }
   ],
   "source": [
    "# Summarize the main activity related to Live-Entertainment licenses.\n",
    "from Pu_Liu_Module import function_summary\n",
    "L_ent_1 = L_ent.loc[L_ent['Neighborhood']=='Downtown/Charlestown/North End', 'CAL_UNITTYPECODE']\n",
    "L_ent_2 = L_ent.loc[L_ent['Neighborhood']=='Back Bay/South End', 'CAL_UNITTYPECODE']\n",
    "L_ent_3 = L_ent.loc[L_ent['Neighborhood']=='South Boston', 'CAL_UNITTYPECODE']\n",
    "function_summary(L_ent_1,L_ent_2,L_ent_3)"
   ]
  },
  {
   "cell_type": "markdown",
   "metadata": {},
   "source": [
    "# Predictive Analytics\n",
    "- Finally, I try to establish a linear model to predict the application fee of licenses depending on the number of units that business want to apply for and it turns out that ambitious companies would have to pay more money for the application fee in the future if they decide to purchase the licenses for more equipments, facilities and extend their business. Therefore, companies that want to save their budget should figure out another way to provide conditions for various activities. For example, assigning a part of their business to the internet or online rather than gather people in crowd."
   ]
  },
  {
   "cell_type": "code",
   "execution_count": 392,
   "metadata": {},
   "outputs": [
    {
     "name": "stdout",
     "output_type": "stream",
     "text": [
      "Intercept        172.893774\n",
      "NUMBEROFUNITS      0.049364\n",
      "dtype: float64\n"
     ]
    },
    {
     "data": {
      "text/html": [
       "<table class=\"simpletable\">\n",
       "<caption>OLS Regression Results</caption>\n",
       "<tr>\n",
       "  <th>Dep. Variable:</th>        <td>FEEAMOUNT</td>    <th>  R-squared:         </th> <td>   0.002</td> \n",
       "</tr>\n",
       "<tr>\n",
       "  <th>Model:</th>                   <td>OLS</td>       <th>  Adj. R-squared:    </th> <td>   0.002</td> \n",
       "</tr>\n",
       "<tr>\n",
       "  <th>Method:</th>             <td>Least Squares</td>  <th>  F-statistic:       </th> <td>   12.20</td> \n",
       "</tr>\n",
       "<tr>\n",
       "  <th>Date:</th>             <td>Sat, 26 Oct 2019</td> <th>  Prob (F-statistic):</th> <td>0.000482</td> \n",
       "</tr>\n",
       "<tr>\n",
       "  <th>Time:</th>                 <td>16:50:11</td>     <th>  Log-Likelihood:    </th> <td> -43078.</td> \n",
       "</tr>\n",
       "<tr>\n",
       "  <th>No. Observations:</th>      <td>  5182</td>      <th>  AIC:               </th> <td>8.616e+04</td>\n",
       "</tr>\n",
       "<tr>\n",
       "  <th>Df Residuals:</th>          <td>  5180</td>      <th>  BIC:               </th> <td>8.617e+04</td>\n",
       "</tr>\n",
       "<tr>\n",
       "  <th>Df Model:</th>              <td>     1</td>      <th>                     </th>     <td> </td>    \n",
       "</tr>\n",
       "<tr>\n",
       "  <th>Covariance Type:</th>      <td>nonrobust</td>    <th>                     </th>     <td> </td>    \n",
       "</tr>\n",
       "</table>\n",
       "<table class=\"simpletable\">\n",
       "<tr>\n",
       "        <td></td>           <th>coef</th>     <th>std err</th>      <th>t</th>      <th>P>|t|</th>  <th>[0.025</th>    <th>0.975]</th>  \n",
       "</tr>\n",
       "<tr>\n",
       "  <th>Intercept</th>     <td>  172.8938</td> <td>   13.734</td> <td>   12.589</td> <td> 0.000</td> <td>  145.969</td> <td>  199.819</td>\n",
       "</tr>\n",
       "<tr>\n",
       "  <th>NUMBEROFUNITS</th> <td>    0.0494</td> <td>    0.014</td> <td>    3.493</td> <td> 0.000</td> <td>    0.022</td> <td>    0.077</td>\n",
       "</tr>\n",
       "</table>\n",
       "<table class=\"simpletable\">\n",
       "<tr>\n",
       "  <th>Omnibus:</th>       <td>13932.172</td> <th>  Durbin-Watson:     </th>   <td>   1.996</td>   \n",
       "</tr>\n",
       "<tr>\n",
       "  <th>Prob(Omnibus):</th>  <td> 0.000</td>   <th>  Jarque-Bera (JB):  </th> <td>416603067.505</td>\n",
       "</tr>\n",
       "<tr>\n",
       "  <th>Skew:</th>           <td>32.381</td>   <th>  Prob(JB):          </th>   <td>    0.00</td>   \n",
       "</tr>\n",
       "<tr>\n",
       "  <th>Kurtosis:</th>      <td>1390.540</td>  <th>  Cond. No.          </th>   <td>    974.</td>   \n",
       "</tr>\n",
       "</table><br/><br/>Warnings:<br/>[1] Standard Errors assume that the covariance matrix of the errors is correctly specified."
      ],
      "text/plain": [
       "<class 'statsmodels.iolib.summary.Summary'>\n",
       "\"\"\"\n",
       "                            OLS Regression Results                            \n",
       "==============================================================================\n",
       "Dep. Variable:              FEEAMOUNT   R-squared:                       0.002\n",
       "Model:                            OLS   Adj. R-squared:                  0.002\n",
       "Method:                 Least Squares   F-statistic:                     12.20\n",
       "Date:                Sat, 26 Oct 2019   Prob (F-statistic):           0.000482\n",
       "Time:                        16:50:11   Log-Likelihood:                -43078.\n",
       "No. Observations:                5182   AIC:                         8.616e+04\n",
       "Df Residuals:                    5180   BIC:                         8.617e+04\n",
       "Df Model:                           1                                         \n",
       "Covariance Type:            nonrobust                                         \n",
       "=================================================================================\n",
       "                    coef    std err          t      P>|t|      [0.025      0.975]\n",
       "---------------------------------------------------------------------------------\n",
       "Intercept       172.8938     13.734     12.589      0.000     145.969     199.819\n",
       "NUMBEROFUNITS     0.0494      0.014      3.493      0.000       0.022       0.077\n",
       "==============================================================================\n",
       "Omnibus:                    13932.172   Durbin-Watson:                   1.996\n",
       "Prob(Omnibus):                  0.000   Jarque-Bera (JB):        416603067.505\n",
       "Skew:                          32.381   Prob(JB):                         0.00\n",
       "Kurtosis:                    1390.540   Cond. No.                         974.\n",
       "==============================================================================\n",
       "\n",
       "Warnings:\n",
       "[1] Standard Errors assume that the covariance matrix of the errors is correctly specified.\n",
       "\"\"\""
      ]
     },
     "execution_count": 392,
     "metadata": {},
     "output_type": "execute_result"
    }
   ],
   "source": [
    "# Build the linear regression.\n",
    "MyDF_clean_L\n",
    "results_1 = smf.ols('FEEAMOUNT ~ NUMBEROFUNITS', data = MyDF_clean_L).fit()\n",
    "print(results_1.params)\n",
    "results_1.summary()"
   ]
  },
  {
   "cell_type": "code",
   "execution_count": 394,
   "metadata": {},
   "outputs": [
    {
     "data": {
      "text/plain": [
       "Text(0.5, 1.0, 'Trend of Fee with Number of units')"
      ]
     },
     "execution_count": 394,
     "metadata": {},
     "output_type": "execute_result"
    },
    {
     "data": {
      "image/png": "[encoded data removed]",
      "text/plain": [
       "<Figure size 432x288 with 1 Axes>"
      ]
     },
     "metadata": {
      "needs_background": "light"
     },
     "output_type": "display_data"
    }
   ],
   "source": [
    "# Plot the linear regression.\n",
    "plt.scatter(MyDF_clean_L.NUMBEROFUNITS, MyDF_clean_L.FEEAMOUNT)\n",
    "plt.plot(MyDF_clean_L.NUMBEROFUNITS, results_1.fittedvalues)\n",
    "plt.xlabel('Number of units')\n",
    "plt.ylabel('Fee')\n",
    "plt.title('Trend of Fee with Number of units')"
   ]
  }
 ],
 "metadata": {
  "kernelspec": {
   "display_name": "Python 3",
   "language": "python",
   "name": "python3"
  },
  "language_info": {
   "codemirror_mode": {
    "name": "ipython",
    "version": 3
   },
   "file_extension": ".py",
   "mimetype": "text/x-python",
   "name": "python",
   "nbconvert_exporter": "python",
   "pygments_lexer": "ipython3",
   "version": "3.7.3"
  }
 },
 "nbformat": 4,
 "nbformat_minor": 2
}
